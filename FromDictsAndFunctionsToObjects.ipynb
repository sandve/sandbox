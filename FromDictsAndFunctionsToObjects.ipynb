{
 "cells": [
  {
   "cell_type": "markdown",
   "metadata": {
    "collapsed": true,
    "pycharm": {
     "name": "#%% md\n"
    }
   },
   "source": [
    "# Kort overordnet intro\n",
    "En utbredt måte å organisere programmer på - noe vi gjerne kaller et programmeringsparadigme - er objekt-orientert progrmmering.\n",
    "Vi kan i Python samle variabler og subrutiner som hører sammen i noe vi kaller **klasser**. Vi kan så lage det vi kaller \"objekter\" fra disse klassene.\n",
    "Objekter har dere allerede sett i IN1000 - f.eks. er en liste et objekt. En liste inneholder mange verdier og tilbyr i tillegg det vi har kalt \"tjenester\" - f.eks. å legge noe i en liste, telle hvor mange ganger en verdi finnes i en liste osv.\n",
    "En sentral del av objekt-orientert programmering er å definere sine egne typer objekter som har variabler og tjenester som jobber godt sammen for å møte et bestemt behov. Vi skal komme tilbake til dette.\n",
    "\n",
    "Men først skal vi se på hva et objekt oppfører seg i Python og gradvis bygge oss frem til måten vi definerer klasser og objekter på i Python.\n",
    "For å vise hvordan dette fungerer og henger sammen med det som er lært i tidligere uker i faget\n",
    "kommer vi til å vise mellomløsninger underveis som ikke er gode måter å programmere på.\n",
    "For å understreke dette: Det er altså kun siste versjon av programmet som viser hvordan man bør programmere objekt-orientert - løsningene underveis er kun ment for å vise hvordan den endelige objekt-orienterte løsningen henger sammen med tidligere pensum i faget."
   ]
  },
  {
   "cell_type": "markdown",
   "metadata": {
    "collapsed": false,
    "pycharm": {
     "name": "#%% md\n"
    }
   },
   "source": [
    "# Lage et objekt fra en innholdsløs klasse\n",
    "\n",
    "Vi starter med å se nærmere på hva et objekt er.\n",
    "Alle objekter er av en bestemt klasse.\n",
    "For å fokusere på objektet nå først, lager vi nå foreløpig en klasse uten innhold.\n",
    "Det eneste klassen har er et navn - *Person*.\n",
    "Siden vi ikke vil legge inn noe innhold skriver vi bare \"pass\" etterpå, som bare viser Python-tolkeren at vi med mening ikke legger noe innhold i klassen (\"pass\" er ikke pensum og noe vi kun bruker nå midlertidig i vårt eksempel).\n"
   ]
  },
  {
   "cell_type": "code",
   "execution_count": 1,
   "metadata": {
    "collapsed": false,
    "pycharm": {
     "name": "#%%\n"
    }
   },
   "outputs": [],
   "source": [
    "class Person:\n",
    "    pass"
   ]
  },
  {
   "cell_type": "markdown",
   "metadata": {
    "collapsed": false,
    "pycharm": {
     "name": "#%% md\n"
    }
   },
   "source": [
    "Når vi nå har en slik klasse, kan vi lage objekter av klassen. Disse er altså foreløpig uten noe relevant innhold.\n",
    "For å lage et objekt skriver vi navnet på en klasse etterfulgt av paranteser.\n",
    "Med andre ord, et klasse-navn etterfulgt av paranteser evaluerer til et objekt av denne klassen."
   ]
  },
  {
   "cell_type": "code",
   "execution_count": 2,
   "metadata": {
    "collapsed": false,
    "pycharm": {
     "name": "#%%\n"
    }
   },
   "outputs": [],
   "source": [
    "gks = Person()\n",
    "smj = Person()"
   ]
  },
  {
   "cell_type": "markdown",
   "source": [
    "### Oppgave: Lag din egen klasse og objekt\n",
    "I boksen under, lag en klasse med navn *RomerTelling*.\n",
    "*(Denne skal telle ved hjelp av V og I som i romertall)*.\n",
    "Lag et objekt av denne klassen som du tilordner til en variabel med navn *teller*."
   ],
   "metadata": {
    "collapsed": false,
    "pycharm": {
     "name": "#%% md\n"
    }
   }
  },
  {
   "cell_type": "code",
   "execution_count": 3,
   "outputs": [
    {
     "ename": "NameError",
     "evalue": "name 'teller' is not defined",
     "output_type": "error",
     "traceback": [
      "\u001B[0;31m---------------------------------------------------------------------------\u001B[0m",
      "\u001B[0;31mNameError\u001B[0m                                 Traceback (most recent call last)",
      "\u001B[0;32m<ipython-input-3-2b559430f5db>\u001B[0m in \u001B[0;36m<module>\u001B[0;34m\u001B[0m\n\u001B[1;32m      2\u001B[0m \u001B[0;34m\u001B[0m\u001B[0m\n\u001B[1;32m      3\u001B[0m \u001B[0;31m#Slik at følgende linje kode kjører uten feilmelding:\u001B[0m\u001B[0;34m\u001B[0m\u001B[0;34m\u001B[0m\u001B[0;34m\u001B[0m\u001B[0m\n\u001B[0;32m----> 4\u001B[0;31m \u001B[0mprint\u001B[0m\u001B[0;34m(\u001B[0m\u001B[0mteller\u001B[0m\u001B[0;34m)\u001B[0m\u001B[0;34m\u001B[0m\u001B[0;34m\u001B[0m\u001B[0m\n\u001B[0m\u001B[1;32m      5\u001B[0m \u001B[0;34m\u001B[0m\u001B[0m\n",
      "\u001B[0;31mNameError\u001B[0m: name 'teller' is not defined"
     ]
    }
   ],
   "source": [
    "#Skriv din kode her:\n",
    "\n",
    "#Slik at følgende linje kode kjører uten feilmelding:\n",
    "print(teller)"
   ],
   "metadata": {
    "collapsed": false,
    "pycharm": {
     "name": "#%%\n"
    }
   }
  },
  {
   "cell_type": "markdown",
   "metadata": {
    "collapsed": false,
    "pycharm": {
     "name": "#%% md\n"
    }
   },
   "source": [
    "# Sette variabler i et objekt\n",
    "(NB! Merk at dette er en midlertid måte å gjøre dette på - mot slutten av notebooken viser vi at man ikke bør sette variabler på denne måten (selv om det er mulig)).\n",
    "\n",
    "Vi kan nå legge til variabler inni objektene. Slike variabler inni objekter kaller vi ofte **attributter**."
   ]
  },
  {
   "cell_type": "code",
   "execution_count": null,
   "metadata": {
    "collapsed": false,
    "pycharm": {
     "name": "#%%\n"
    }
   },
   "outputs": [],
   "source": [
    "gks.navn = \"Geir Kjetil Sandve\"\n",
    "gks.alder = 31\n",
    "\n",
    "smj.navn = \"Siri Moe Jensen\"\n",
    "smj.alder = 48\n",
    "\n",
    "print(gks.navn, \"er\", gks.alder, \"aar.\")"
   ]
  },
  {
   "cell_type": "markdown",
   "metadata": {
    "collapsed": false,
    "pycharm": {
     "name": "#%% md\n"
    }
   },
   "source": [
    "Som en liten sidenote kan man merke seg at dette nesten er som å legge inn nøkler og verdier i en ordbok.\n",
    "For det vi har sett til nå liger forskjellen stort sett bare i skrivemåten (syntaksen).\n",
    "Å ha et objekt gks som inneholder variablene navn og alder er altså nesten som å ha en ordbok gks_ordbok med nøklene navn og alder:"
   ]
  },
  {
   "cell_type": "code",
   "execution_count": null,
   "metadata": {
    "collapsed": false,
    "pycharm": {
     "name": "#%%\n"
    }
   },
   "outputs": [],
   "source": [
    "gks_ordbok = {}\n",
    "gks_ordbok[\"navn\"] = \"Geir Kjetil Sandve\"\n",
    "gks_ordbok[\"alder\"] = 31"
   ]
  },
  {
   "cell_type": "markdown",
   "source": [
    "### Oppgave: Legg til variabler i ditt objekt *teller*\n",
    "I boksen under, legg til variabler med navn *antall_i* og *antall_v* i ditt objekt *teller* (det som du laget over følger med ned her i notebooken).\n",
    "De skal henholdsvis tilordnes verdiene 2 og 1."
   ],
   "metadata": {
    "collapsed": false
   }
  },
  {
   "cell_type": "code",
   "execution_count": null,
   "outputs": [],
   "source": [
    "#Skriv din kode her:\n",
    "\n",
    "#Slik at følgende linje kode kjører uten feilmelding:\n",
    "print(teller.antall_i, teller.antall_v) #skal skrive ut \"2 1\"."
   ],
   "metadata": {
    "collapsed": false,
    "pycharm": {
     "name": "#%%\n"
    }
   }
  },
  {
   "cell_type": "markdown",
   "source": [],
   "metadata": {
    "collapsed": false
   }
  },
  {
   "cell_type": "markdown",
   "metadata": {
    "collapsed": false,
    "pycharm": {
     "name": "#%% md\n"
    }
   },
   "source": [
    "# Funksjoner som jobber på en bestemt type objekt\n",
    "(NB! Merk at dette er en midlertid måte å gjøre dette på - mot slutten av notebooken viser vi at man i stedet bør legge slike subrutiner inn som metoder i en klasse)\n",
    "\n",
    "Dersom vi vet hvilke variabler (attributter) som er inni et objekt\n",
    "kan vi lage funksjoner som bruker verdiene i disse variablene med kjent navn.\n",
    "I tilfellet under fungerer altså funksjonen *skriv_ut* kun dersom objektet som sendes inn som argument har attributter navn og alder:"
   ]
  },
  {
   "cell_type": "code",
   "execution_count": null,
   "metadata": {
    "collapsed": false,
    "pycharm": {
     "name": "#%%\n"
    }
   },
   "outputs": [],
   "source": [
    "def skriv_ut(person):\n",
    "    print(person.navn, \"er\", person.alder, \"aar.\")\n",
    "\n",
    "skriv_ut(gks)\n",
    "skriv_ut(smj)"
   ]
  },
  {
   "cell_type": "markdown",
   "metadata": {
    "collapsed": false,
    "pycharm": {
     "name": "#%% md\n"
    }
   },
   "source": [
    "Ofte kan en slik kombinasjon av variabler være nyttig for å representere noe som hører naturlig sammen.\n",
    "For eksempel navn og alder på en person i virkeligheten (som her).\n",
    "Det kan da også være nyttig å ha flere ulike prosedyrer/funksjoner som jobber med en slik type objekter -\n",
    "altså som antar at det får inn objekter med disse samme variablene/attributtene.\n",
    "Disse ulike funksjonene trenger heller ikke alltid benytte alle attributtene i objektet det jobber på.\n",
    "For eksempel kan man definere følgende ekstra funksjoner for objekter som representerer personer:"
   ]
  },
  {
   "cell_type": "code",
   "execution_count": null,
   "metadata": {
    "collapsed": false,
    "pycharm": {
     "name": "#%%\n"
    }
   },
   "outputs": [],
   "source": [
    "def bursdag(person):\n",
    "    person.alder = person.alder + 1\n",
    "\n",
    "def er_myndig(person):\n",
    "    return person.alder >= 18"
   ]
  },
  {
   "cell_type": "markdown",
   "metadata": {
    "collapsed": false,
    "pycharm": {
     "name": "#%% md\n"
    }
   },
   "source": [
    "Man kan bruke ulike prosedyrer/funksjoner for å endre eller hente ut noe for objektene.\n",
    "Man kan for eksempel bruke funksjonen bursdag til å endre alderen og bruke funksjonen skriv_ut for å se hvilke verdier et objekt har til enhver tid:"
   ]
  },
  {
   "cell_type": "code",
   "execution_count": null,
   "metadata": {
    "collapsed": false,
    "pycharm": {
     "name": "#%%\n"
    }
   },
   "outputs": [],
   "source": [
    "skriv_ut(gks)\n",
    "skriv_ut(smj)\n",
    "\n",
    "bursdag(smj)\n",
    "bursdag(gks)\n",
    "bursdag(smj)\n",
    "\n",
    "skriv_ut(gks)\n",
    "skriv_ut(smj)"
   ]
  },
  {
   "cell_type": "markdown",
   "metadata": {
    "collapsed": false,
    "pycharm": {
     "name": "#%% md\n"
    }
   },
   "source": [
    "Man kan også lage en egen funksjon som lager et nytt person-objekt med attributter navn og alder som blir tilordnet bestemte verdier (verdiene man ønsker kan sendes inn som argumenter til funksjonen):"
   ]
  },
  {
   "cell_type": "code",
   "execution_count": null,
   "metadata": {
    "collapsed": false,
    "pycharm": {
     "name": "#%%\n"
    }
   },
   "outputs": [],
   "source": [
    "def lag_person(navnet, alderen):\n",
    "    person = Person()\n",
    "    person.navn = navnet\n",
    "    person.alder = alderen\n",
    "    return person\n",
    "\n",
    "pl = lag_person(\"Pippi Langstrompe\", 17)\n",
    "skriv_ut(pl)\n",
    "print(er_myndig(pl))\n",
    "bursdag(pl)\n",
    "print(er_myndig(pl))\n",
    "skriv_ut(pl)"
   ]
  },
  {
   "cell_type": "markdown",
   "source": [
    "### Oppgave: Lag dine egne funksjoner som jobber på romertellere\n",
    "I boksen under, lag to prosedyrer/funksjoner med navn *inkrementer* og *som_arabisk_tall*.\n",
    "Prosedyren *inkrementer* skal ta et RomerTall-objekt som argument og øke verdien av variabelen *antall_i* med 1.\n",
    "Funksjonen *som_arabisk_tall* skal ta et RomerTall-objekt som argument og returnere som et vanlig tall, altså antall_v*5+antall_i.\n",
    "Lag et objekt av denne klassen som du tilordner til en variabel med navn *teller*."
   ],
   "metadata": {
    "collapsed": false
   }
  },
  {
   "cell_type": "code",
   "execution_count": null,
   "outputs": [],
   "source": [
    "#Skriv din kode her:\n",
    "\n",
    "#Slik at følgende linje kode kjører uten feilmelding:\n",
    "tall = som_arabisk_tall(teller)\n",
    "print(tall) #skal printe ut 7"
   ],
   "metadata": {
    "collapsed": false,
    "pycharm": {
     "name": "#%%\n"
    }
   }
  },
  {
   "cell_type": "markdown",
   "metadata": {
    "collapsed": false,
    "pycharm": {
     "name": "#%% md\n"
    }
   },
   "source": [
    "# Definere metoder i en klasse\n",
    "Om man har ulike subrutiner (funksjoner) som alle jobber på objekter med de samme attributtene (som i vårt eksempel),\n",
    "er det veldig nyttig å koble disse tettere sammen.\n",
    "Det kan man gjøre ved å legge disse subrutinene inn i en klasse. Man kaller de da for **metoder**.\n",
    "En metode er altså en slags prosedyre/funksjon som er koblet til en bestemt klasse.\n",
    "De ulike funksjonene vi har vist i eksemplene frem til nå kan på denne måten samles under klassen Person:"
   ]
  },
  {
   "cell_type": "code",
   "execution_count": null,
   "metadata": {
    "collapsed": false,
    "pycharm": {
     "name": "#%%\n"
    }
   },
   "outputs": [],
   "source": [
    "class Person:\n",
    "    def skriv_ut(person):\n",
    "        print(person.navn, \"er\", person.alder, \"aar.\")\n",
    "\n",
    "    def bursdag(person):\n",
    "        person.alder = person.alder + 1\n",
    "\n",
    "    def er_myndig(person):\n",
    "        return person.alder >= 18"
   ]
  },
  {
   "cell_type": "markdown",
   "metadata": {
    "collapsed": false,
    "pycharm": {
     "name": "#%% md\n"
    }
   },
   "source": [
    "Når man har definert en metode på denne måten, kan vi i Python kalle metoden ved å skrive\n",
    "objektet etterfulgt av punktum etterfulgt av metodenavnet og paranteser.\n",
    "Vi kaller alltid slike metoder basert på et objekt (objekt etterfulgt av punktum og metodenavn).\n",
    "Python vil da automatisk sende meg dette objektet som første parameter.\n",
    "Når man kaller pl.bursdag() følger altså pl med som argument og blir tilordnet parameteren person i metoden bursdag(person).\n",
    "Måten man kaller metodene over er dermed som følger:"
   ]
  },
  {
   "cell_type": "code",
   "execution_count": null,
   "metadata": {
    "collapsed": false,
    "pycharm": {
     "name": "#%%\n"
    }
   },
   "outputs": [],
   "source": [
    "pl = Person()\n",
    "pl.navn = \"Pippi Langstrompe\"\n",
    "pl.alder = 17\n",
    "pl.skriv_ut()\n",
    "print(pl.er_myndig())\n",
    "pl.bursdag()\n",
    "print(er_myndig(pl))"
   ]
  },
  {
   "cell_type": "markdown",
   "metadata": {
    "collapsed": false,
    "pycharm": {
     "name": "#%% md\n"
    }
   },
   "source": [
    "Siden det alltid er slik at første parameter i en metode er et objekt av klassen det hører til\n",
    "er det i Python vanlig å alltid kalle denne parameteren for **self**.\n",
    "Dette spiller på at dette er et objekt av klassen, og på et vis seg selv når man tenker på at formålet med disse metodene er å jobbe med slike objekter.\n",
    "Merk at dette bare er en kotyme - teknisk sett er dette bare et variabelnavn som alle andre og man kunne fint kalt det hva som helst annet (f.eks. \"selv\" om man ville insistert på bruk av norsk).\n",
    "Vi følger imidlertid i IN1000 alltid denne veldig etablerte kotymen (noe annet kunne forvirret de som leste koden - så det er en veldig nyttig kotyme)."
   ]
  },
  {
   "cell_type": "code",
   "execution_count": null,
   "metadata": {
    "collapsed": false,
    "pycharm": {
     "name": "#%%\n"
    }
   },
   "outputs": [],
   "source": [
    "class Person:\n",
    "    def skriv_ut(self):\n",
    "        print(self.navn, \"er\", self.alder, \"aar.\")\n",
    "\n",
    "    def bursdag(self):\n",
    "        self.alder = self.alder + 1\n",
    "\n",
    "    def er_myndig(self):\n",
    "        return self.alder >= 18"
   ]
  },
  {
   "cell_type": "markdown",
   "source": [
    "### Oppgave: Gjør dine to prosedyrer/funksjoner om til metoder\n",
    "I boksen under, definer din klasse RomerTall på ny,\n",
    "slik at dine to subrutiner *inkrementer* og *som_arabisk_tall* nå er metoder inni klassen *RomerTall*."
   ],
   "metadata": {
    "collapsed": false
   }
  },
  {
   "cell_type": "code",
   "execution_count": null,
   "outputs": [],
   "source": [
    "#Skriv din kode her:\n",
    "\n",
    "#Slik at følgende linje kode kjører uten feilmelding:\n",
    "nyteller = RomerTall()\n",
    "tall = nyteller.som_arabisk_tall()\n",
    "print(tall) #skal printe ut 7"
   ],
   "metadata": {
    "collapsed": false,
    "pycharm": {
     "name": "#%%\n"
    }
   }
  },
  {
   "cell_type": "markdown",
   "metadata": {
    "collapsed": false,
    "pycharm": {
     "name": "#%% md\n"
    }
   },
   "source": [
    "# Ha kontroll med attributter (definere init-metode)\n",
    "Et neste sentralt steg er å få kontroll på (være tydelig på) hvilke attributter objekter av en bestemt klasse har.\n",
    "Utgangspunktet for å samle disse ulike metodene var jo at de alle jobbet med (antok) objekter som hadde bestemte attributter (navn og alder i vårt eksempel).\n",
    "Om et objekt ikke skulle ha en attributt (variabel) med navn alder, ville ingen av metodene i vår Person-klasse virke (man ville få feilmelding).\n",
    "For å sikre slik kontroll lager vi noe som kalles **konstruktør** eller **init-metode** (to navn for det samme).\n",
    "Dette er en spesiell type metode som sørger for at objektene av en bestemt klasse (her Person) alltid har visse attributter.\n",
    "Dette er omtrent det samme som funksjonen \"lag_person\" gjorde tidligere i eksempelet.\n",
    "For å være en ekte konstruktør/init-metode må den imidlertid i Python ha det eksakte navnet **__init__** (merk her dobbel underscore foran og bak).\n",
    "I tillegg får den (i motsetning til vår funksjon lag_person) inn et person-objekt som første argument (som alle andre metoder).\n",
    "Den trenger heller ikke returnere objektet.\n",
    "Det init-metoden gjør er med andre ord å sette de bestemte attributtene som et objekt av denne klassen alltid skal ha."
   ]
  },
  {
   "cell_type": "code",
   "execution_count": null,
   "metadata": {
    "collapsed": false,
    "pycharm": {
     "name": "#%%\n"
    }
   },
   "outputs": [],
   "source": [
    "class Person:\n",
    "#   def lag_person(navnet, alderen):\n",
    "    def __init__(self, navnet, alderen):\n",
    "        #person = Person()\n",
    "        self.navn = navnet\n",
    "        self.alder = alderen\n",
    "        #return person\n",
    "\n",
    "    def skriv_ut(self):\n",
    "        print(self.navn, \"er\", self.alder, \"aar.\")\n",
    "\n",
    "    def bursdag(self):\n",
    "        self.alder = self.alder + 1\n",
    "\n",
    "    def er_myndig(self):\n",
    "        return self.alder >= 18"
   ]
  },
  {
   "cell_type": "markdown",
   "metadata": {
    "collapsed": false,
    "pycharm": {
     "name": "#%% md\n"
    }
   },
   "source": [
    "Man kaller ikke init-metoden eksplisitt.\n",
    "I stedet blir init-metoden alltid automatisk kallet når man lager et nytt objekt (når man skriver Person()).\n",
    "Dermed vet man at denne metoden alltid er kjørt og at objekter av denne klassen alltid har de attributtene som settes der.\n",
    "Ofte tar init-metoden inn flere argumenter (enn person-objektet som automatisk sendes inn).\n",
    "Disse ekstra argumentene sender man inn når man lager et objekt.\n",
    "I og med at init-metoden over har parametre navnet og alderen (i tillegg til selv), må man altså sende med to argumenter når man lager objektet (første linje her):"
   ]
  },
  {
   "cell_type": "code",
   "execution_count": null,
   "metadata": {
    "collapsed": false,
    "pycharm": {
     "name": "#%%\n"
    }
   },
   "outputs": [],
   "source": [
    "pl = Person(\"Pippi Langstromp\", 17)\n",
    "pl.skriv_ut()\n",
    "print(pl.er_myndig())\n",
    "bursdag(pl)\n",
    "pl.skriv_ut()\n",
    "print(er_myndig(pl))"
   ]
  },
  {
   "cell_type": "markdown",
   "source": [
    "### Oppgave: Lag init-metode for din egen klasse\n",
    "Kopier inn din kode fra forrige oppgave-boks til boksen under.\n",
    "Utvid klassen RomerTall ved å legge til en init-metode med eksakt navn *__init__*.\n",
    "Denne init-metoden skal ta inn to argumenter (utover self-argumentet som automatisk følger med) med parameternavn *v* og *i*.\n",
    "Init-metoden skal sette attributtene antall_v og antall_i basert på disse to argumentene."
   ],
   "metadata": {
    "collapsed": false
   }
  },
  {
   "cell_type": "code",
   "execution_count": null,
   "outputs": [],
   "source": [
    "#Skriv din kode her:\n",
    "\n",
    "#Slik at følgende linje kode kjører uten feilmelding:\n",
    "nesteteller = RomerTall(2,1)\n",
    "tall = nesteteller.som_arabisk_tall()\n",
    "print(tall) #skal printe ut 7"
   ],
   "metadata": {
    "collapsed": false,
    "pycharm": {
     "name": "#%%\n"
    }
   }
  },
  {
   "cell_type": "markdown",
   "metadata": {
    "collapsed": false,
    "pycharm": {
     "name": "#%% md\n"
    }
   },
   "source": [
    "# En ekte klasse (endelig;)\n",
    "### Slik en klasse skal se ut, med private attributter (representsjon) og offentlige metoder/tjenester (grensesnitt)\n",
    "Vi er nå nesten helt i mål med hvordan en klasse skal se ut.\n",
    "For å komme helt i mål skal vi introdusere en ekstra viktig kotyme.\n",
    "Dette er at alle attributter (variabler inni objektet) skal ha et navn som starter med underscore (**_**).\n",
    "Dette er som nevnt igjen bare en kotyme - teknisk sett er underscore bare et tegn på lik linje med andre bokstaver som del av et navn.\n",
    "Grunnen til at vi har underscore i navnet på disse variablene (attributtenn) er for å markere at disse er det vi kaller **private** for klassen.\n",
    "Det vil si at disse er et internt anliggende - at de kun er ment å brukes inni metoder tilhørende klassen, og ikke ment å brukes direkte fra utsiden av klassen.\n",
    "Vi ønsker altså ikke å direkte tilordne verdier til attributter utenfra slik vi gjorde da vi eksempler over skrev f.eks. \"gks.alder = 31\". (dette gjorde vi bare for å vise en mest mulig gradvis og forhåpentligvis forståelig overgang fra stoffet i tidligere uker til objekt-orientering).\n",
    "Man skal ikke måtte bruke eller i det hele tatt kjenne til disse attributtene fra utsiden.\n",
    "I stedet ønsker vi kun å endre eller hente verdien til attributter gjennom init-metoden og andre metoder.\n",
    "Vi kaller disse metodene for tjenester. De skjulte variablene kaller vi (den interne) representasjonen.\n",
    "Det vi bruker fra utsiden, altså de ulike tjenestene som tilhører en klsse, kaller vi også for \"grensesnittet\" til klassen.\n",
    "\n",
    "Programmet vårt ser da slik ut, i en for første gang god objekt-orientert form:"
   ]
  },
  {
   "cell_type": "code",
   "execution_count": null,
   "metadata": {
    "collapsed": false,
    "pycharm": {
     "name": "#%%\n"
    }
   },
   "outputs": [],
   "source": [
    "class Person:\n",
    "    def __init__(self, navnet, alderen):\n",
    "        self._navn = navnet\n",
    "        self._alder = alderen\n",
    "\n",
    "    def skriv_ut(self):\n",
    "        print(self._navn, \"er\", self._alder, \"aar._\")\n",
    "\n",
    "    def bursdag(self):\n",
    "        self._alder = self._alder + 1\n",
    "\n",
    "    def er_myndig(self):\n",
    "        return self._alder >= 18\n",
    "\n",
    "pl = Person(\"Pippi Langstromp\", 17)\n",
    "pl.skriv_ut()\n",
    "print(pl.er_myndig())\n",
    "pl.bursdag()\n",
    "pl.skriv_ut()\n",
    "print(pl.er_myndig())"
   ]
  },
  {
   "cell_type": "markdown",
   "source": [
    "### Oppgave: Endre din klasse til endelig form\n",
    "Kopier inn din kode fra forrige oppgave-boks til boksen under.\n",
    "Endre navnet på alle attributter til å starte med underscore."
   ],
   "metadata": {
    "collapsed": false,
    "pycharm": {
     "name": "#%% md\n"
    }
   }
  },
  {
   "cell_type": "code",
   "execution_count": null,
   "outputs": [],
   "source": [
    "#Skriv din kode her:\n",
    "\n",
    "#Slik at følgende linje kode kjører uten feilmelding:\n",
    "sisteteller = RomerTall(3,2)\n",
    "tall = sisteteller.som_arabisk_tall()\n",
    "print(tall) #skal printe ut 13\n",
    "sisteteller.inkrementer()\n",
    "tall2 = sisteteller.som_arabisk_tall()\n",
    "print(tall2) #skal printe ut 14"
   ],
   "metadata": {
    "collapsed": false,
    "pycharm": {
     "name": "#%%\n"
    }
   }
  },
  {
   "cell_type": "markdown",
   "metadata": {
    "collapsed": false,
    "pycharm": {
     "name": "#%% md\n"
    }
   },
   "source": [
    "# Oppsummering og konklusjon\n",
    "For å oppsummere har du nå altså gått gjennom følgende reise fra tidligere ukers stoff og frem til et objekt-orientert program:\n",
    "- Et objekt samler ulike variabler på en litt lignende måte som en ordliste (dog med annen skrivemåte), hvor f.eks. et objekt *gks* kan ha variabler *gks.navn* og *gks.alder*.\n",
    "- En viss kombinasjon av variabler kan ofte høre naturlig sammen for å representere noe i virkeligheten. Dette kan man da representere som objekter med bestemt variabler inni seg (disse variablene kaller vi ofte attributter).\n",
    "- Det kan ofte være nyttig å ha flere ulike subrutiner (funksjoner) som jobber med samme type objekt (får et objekt som argument og antar at det har bestemte attributter).\n",
    "- Man kan da samle slike subrutiner i en klasse, og kaller disse subrutinene for metoder.\n",
    "- Metodene i en klasse kaller man ved å skrive \"objektnavn.metodenavn()\". Objektet sendes da automatisk med som første argument til metoden. Det er kotyme å kalle denne første parameteren self når man definerer en metode. Man kan også definere flere parametre i metoden.\n",
    "- Vi har ofte også en bestemt metode som kalles konstruktør/init-metode. Denne må ha eksakt navn \"__init__\". Den kalles automatisk når et nytt objekt lages (når man skriver klassenavn etterfulgt av paranteser).\n",
    "- Det er kotyme at attributtene har navn som starter med underscore. Dette signaliserer at de er et internt anliggende og ikke skal brukes direkte i kode utenfra klassen.\n",
    "- Typisk for objekt-orientering er at man lager et objekt fra en klasse, noe som automatisk kaller init-metoden (eventuelt med ekstra argumenter), og at man deretter interagerer med objektet utelukkende ved å kalle metoder. Metodene kalles også tjenester, og alle tjenestene til et objekt kalles ofte grensesnittet til objektet."
   ]
  },
  {
   "cell_type": "markdown",
   "metadata": {
    "collapsed": false,
    "pycharm": {
     "name": "#%% md\n"
    }
   },
   "source": [
    "Du har nå gått gjennom hva man konkret skriver for å lage klasser og objekter, samt forhåpentligvis fått en viss forståelse for hva som skjer bak forhenget\n",
    "(at hva som skjer i objekt-orienterte programmer fremstår som forståelig og ikke magisk).\n",
    "Det er selvsagt mye mer å lære rundt objekt-orientert programmering. Vi har for eksempel ikke gått inn på hvordan man selv kan finne frem til fornuftige klasser, hvordan man på en god måte kan definere flere samarbeidende klasser for å løse et problem og så videre. Men vi håper denne notebooken har gitt noen nyttige innblikk og perspektiver som kan hjelpe deg i din videre læring innen objekt-orientert programmering."
   ]
  }
 ],
 "metadata": {
  "kernelspec": {
   "name": "python3",
   "language": "python",
   "display_name": "Python 3"
  },
  "language_info": {
   "codemirror_mode": {
    "name": "ipython",
    "version": 2
   },
   "file_extension": ".py",
   "mimetype": "text/x-python",
   "name": "python",
   "nbconvert_exporter": "python",
   "pygments_lexer": "ipython2",
   "version": "2.7.13"
  }
 },
 "nbformat": 4,
 "nbformat_minor": 0
}